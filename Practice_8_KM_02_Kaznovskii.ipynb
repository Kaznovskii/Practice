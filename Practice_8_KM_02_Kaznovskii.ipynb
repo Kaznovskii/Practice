{
  "nbformat": 4,
  "nbformat_minor": 0,
  "metadata": {
    "colab": {
      "name": "Practice_7_KM-01_.ipynb",
      "provenance": [],
      "collapsed_sections": []
    },
    "kernelspec": {
      "name": "python3",
      "display_name": "Python 3.6.5 64-bit",
      "metadata": {
        "interpreter": {
          "hash": "aee8b7b246df8f9039afb4144a1f6fd8d2ca17a180786b69acc140d282b71a49"
        }
      }
    }
  },
  "cells": [
    {
      "cell_type": "markdown",
      "metadata": {
        "id": "FMqboNwO4rVs"
      },
      "source": [
        "# **Курс \"Програмування на мові Python\"**\n",
        "\n",
        "##### Викладачі:\n",
        "##### Борисенко Павло Борисович\n",
        "##### Щьоголєв Максим Олегович\n"
      ]
    },
    {
      "cell_type": "markdown",
      "metadata": {
        "id": "A2T6MigL5Z06"
      },
      "source": [
        "## **Практичне зайняття №8**\n",
        "\n",
        "### Тема: \"Робота з функціями. Локальні та глобальні змінні\""
      ]
    },
    {
      "cell_type": "markdown",
      "metadata": {
        "id": "cfCdgK2zXm7e"
      },
      "source": [
        "### **Завдання 1 (3 бали)**\n",
        "\n",
        "**Підрахувати визначник матриці, використовуючи правило перестановок.**\n",
        "\n",
        "Функція random_matrix() призначена для створення квадратної матриці випадкових чисел. Її змінювати непотрібно.\n",
        "\n",
        "Приклад використання методу permutations() для створення списку перестановок також подається у комірці з кодом.\n",
        "\n",
        "1) Створити 3 функції: функцію створення списку перестановок, функцію підрахунку добутків та функцію підрахунку загальної суми.\n",
        "\n",
        "2) Кожна функція має супроводжуватись рядком документації, що буде коротко описувати її призначення.\n",
        "\n",
        "3) Розмірність квадратної матриці має вводитись користувачем з клавіатури. Підрахунки виконувати лише в тому разі, якщо користувач введе ціле додатне число.\n",
        "\n",
        "4) Загальний результат повинен підраховуватись за допомогою композиції функцій.\n",
        "\n",
        "За бажання можна перевірити правильність роботи програми за допомогою функції np.linalg.det(a)."
      ]
    },
    {
      "cell_type": "code",
      "metadata": {
        "id": "ifNX2M7LXm7f"
      },
      "source": [
        "import numpy as np\n",
        "import itertools\n",
        "\n",
        "def random_matrix(dim):\n",
        "    \"\"\"\n",
        "    The function generates dim x dim array of integers\n",
        "    between 0 and 10.\n",
        "    \"\"\"\n",
        "    matrix = np.random.randint(10, size = (dim, dim))\n",
        "    return matrix\n",
        "\n",
        "#Example of using permutations() method\n",
        "#t = list(itertools.permutations('123', 3))\n",
        "\n",
        "try:\n",
        "    dim = int(input(\"Enter dimension: \"))\n",
        "    if dim < 1:\n",
        "        raise ValueError('Number must be integer')\n",
        "except ValueError:\n",
        "    print(\"You must enter a number\")\n",
        "\n",
        "\n",
        "def listmaker(dim):\n",
        "    \"\"\"\n",
        "    Function that makes a list of rearrangment.\n",
        "    \"\"\"\n",
        "    global count\n",
        "    global variations\n",
        "    for i in range(0, dim):\n",
        "        count += str(i)\n",
        "    variations = list(itertools.permutations(count, dim))\n",
        "\n",
        "def multiplies(variations):\n",
        "    \"\"\"\n",
        "    Function that counts all multiplies.\n",
        "    \"\"\"\n",
        "    global invers\n",
        "    global mults\n",
        "    for n in range(0, dim):\n",
        "        for m in range(0, dim):\n",
        "            for k in range(0, dim):\n",
        "                if m < k:\n",
        "                    if int(variations[n][m]) > int(variations[n][k]):\n",
        "                        invers += 1\n",
        "        if invers%2 == 1:\n",
        "            number = -1\n",
        "            for l in range(0, dim):\n",
        "                t = int(variations[n][m])\n",
        "                number *= matrix[l][t]\n",
        "        else:\n",
        "            number = 1\n",
        "            for l in range(0, dim):\n",
        "                t = int(variations[n][m])\n",
        "                number *= matrix[l][t]\n",
        "        mults.append(number)\n",
        "\n",
        "def result():\n",
        "    \"\"\"\n",
        "    Function that makes final add.\n",
        "    \"\"\"\n",
        "    global res\n",
        "    for i in mults:\n",
        "        res += i\n",
        "    return res\n",
        "\n",
        "invers = 0\n",
        "count = \"\"\n",
        "res = 0\n",
        "mults = []\n",
        "\n",
        "matrix = random_matrix(dim)\n",
        "listmaker(dim)\n",
        "multiplies(variations)\n",
        "print(\"The result is\", result())\n",
        "print(matrix)"
      ],
      "execution_count": 187,
      "outputs": [
        {
          "output_type": "stream",
          "name": "stdout",
          "text": [
            "The result is -10\n[[5 7]\n [2 0]]\n"
          ]
        }
      ]
    },
    {
      "cell_type": "code",
      "execution_count": null,
      "metadata": {},
      "outputs": [],
      "source": []
    }
  ]
}