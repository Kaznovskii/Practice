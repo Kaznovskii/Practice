{
  "nbformat": 4,
  "nbformat_minor": 0,
  "metadata": {
    "colab": {
      "name": "Practice_14_KM_01.ipynb",
      "provenance": [],
      "collapsed_sections": []
    },
    "kernelspec": {
      "name": "python3",
      "display_name": "Python 3.6.5 64-bit",
      "metadata": {
        "interpreter": {
          "hash": "aee8b7b246df8f9039afb4144a1f6fd8d2ca17a180786b69acc140d282b71a49"
        }
      }
    }
  },
  "cells": [
    {
      "cell_type": "markdown",
      "metadata": {
        "id": "FMqboNwO4rVs"
      },
      "source": [
        "# **Курс \"Програмування на мові Python\"**\n",
        "\n",
        "##### Викладачі:\n",
        "##### Борисенко Павло Борисович\n",
        "##### Щьоголєв Максим Олегович\n"
      ]
    },
    {
      "cell_type": "markdown",
      "metadata": {
        "id": "A2T6MigL5Z06"
      },
      "source": [
        "## **Практичне зайняття №14**\n",
        "\n",
        "### Тема: \"Робота з файлами\""
      ]
    },
    {
      "cell_type": "markdown",
      "metadata": {
        "id": "cfCdgK2zXm7e"
      },
      "source": [
        "### **Завдання 1 (1,5 бали)**\n",
        "\n",
        "У 1939 році друком вийшов роман американського письменика Ернеста Вінсента Райта \"Ґедсбі\". Особливу увагу публіки він здобув через те, що письменник жодного разу не використав у романі літеру \"e\" (роман складається з більше ніж 50,000 слів), яка є найбільш вживаною літерою в англійській мові.\n",
        "\n",
        "Порахуйте кількість входжень кожної літери у текст роману. Виведіть список літер англійського алфавіту, а також інформацію про те, скільки відсотків від усіх літер тексту складає кожна літера алфавіту.\n",
        "\n",
        "Зауваження:\n",
        "\n",
        "1. Програма має ігнорувати будь-які символи, окрім літер.\n",
        "\n",
        "2. Переведіть усі літери у верхній або у нижній регістр.\n",
        "\n",
        "3. Під час виведення відсортуйте літери у порядку зменшення їхнього відсотка. Літера \"e\" має стояти на останньому місці у цьому списку.\n",
        "\n",
        "4. Виведіть перші 5 та останні 5 літер відсортованого списку разом з відсотковими значеннями, що їм відповідають."
      ]
    },
    {
      "cell_type": "code",
      "metadata": {
        "tags": [],
        "id": "u4-fHJJ6U462"
      },
      "source": [
        "# Створення словника з кількостями літер\n",
        "counter_dict = {}\n",
        "with open('gadsby.txt', 'r') as gadsby:\n",
        "    for line in gadsby.readlines():\n",
        "        for letter in line:\n",
        "            if letter.isalpha():\n",
        "                if letter.lower() not in counter_dict:\n",
        "                    counter_dict[letter.lower()] = [1]\n",
        "                else:\n",
        "                    counter_dict[letter.lower()][0] += 1\n",
        "\n",
        "# Підрахунок суми всіх літер\n",
        "summa = sum((counter_dict[key][0] for key in counter_dict))\n",
        "\n",
        "# Обчислення відсотків\n",
        "for key in counter_dict:\n",
        "    counter_dict[key] += [round(counter_dict[key][0]/summa*100, 3)]\n",
        "\n",
        "# Сортування за відсотками\n",
        "counter_list = list(counter_dict.items())\n",
        "counter_list.sort(key=lambda i: i[1][1])\n",
        "\n",
        "# Список, підготовлений до виведення\n",
        "arranged_list = [[i[0]] + [str(i[1][1])] for i in counter_list]\n",
        "\n",
        "# Виведення\n",
        "print(\"Sorted letters with percentage:\")\n",
        "for k in range(len(arranged_list)-1):\n",
        "    print(\": \".join(arranged_list[k]), end=\"; \")\n",
        "print(\": \".join(arranged_list[-1]))\n",
        "print()\n",
        "print(\"First and last 5 letters:\")\n",
        "for k in range(5):\n",
        "    print(\": \".join(arranged_list[k]), end=\"; \")\n",
        "for k in range(5, 1, -1):\n",
        "    print(\": \".join(arranged_list[-k]), end=\"; \")\n",
        "print(\": \".join(arranged_list[-1]))"
      ],
      "execution_count": 57,
      "outputs": [
        {
          "output_type": "stream",
          "name": "stdout",
          "text": [
            "Sorted letters with percentage:\nq: 0.053; x: 0.081; z: 0.107; j: 0.225; e: 0.234; v: 0.336; k: 1.168; p: 1.908; m: 2.089; b: 2.126; f: 2.149; c: 2.669; w: 2.787; y: 3.166; g: 3.569; d: 4.105; u: 4.131; r: 4.786; h: 4.916; l: 5.292; s: 6.956; t: 8.531; n: 8.561; i: 8.791; o: 10.371; a: 10.894\n\nFirst and last 5 letters:\nq: 0.053; x: 0.081; z: 0.107; j: 0.225; e: 0.234; t: 8.531; n: 8.561; i: 8.791; o: 10.371; a: 10.894\n"
          ]
        }
      ]
    },
    {
      "cell_type": "markdown",
      "metadata": {
        "id": "A34oz70eU463"
      },
      "source": [
        "### **Завдання 2 (1,5 бали)**\n",
        "\n",
        "Створіть CSV-файл, що буде містити від 5 до 10 пісень (творів) вашого улюбленого музиканта. Назва файлу - ім'я музиканта (композитора) або назва гурту.\n",
        "\n",
        "1. Обов'язково додайте до файлу рядок з назвами двох колонок (Song, Year) або (Composition, Year).\n",
        "\n",
        "2. Після запису файлу роздрукуйте назву файлу та усі наявні у файлі рядки (включно із заголовками).\n",
        "\n",
        "3. Для запису та зчитування рядків скористайтесь функціями csv.DictWriter() та csv.DictReader()."
      ]
    },
    {
      "cell_type": "code",
      "metadata": {
        "id": "MEJIrG1GU463"
      },
      "source": [
        "import csv\n",
        "\n",
        "with open(\"Joji.csv\", \"w\") as joji:\n",
        "    columns = [\"Song\", \"Year\"]\n",
        "    pesni = csv.DictWriter(joji, fieldnames=columns)\n",
        "    pesni.writeheader()\n",
        "    pesni.writerow({\"Song\": \"Ew\", \"Year\": \"2020\"})\n",
        "    pesni.writerow({\"Song\": \"SLOW DANCING IN THE DARK\", \"Year\": \"2018\"})\n",
        "    pesni.writerow({\"Song\": \"TEST DRIVE\", \"Year\": \"2018\"})\n",
        "    pesni.writerow({\"Song\": \"Gimme Love\", \"Year\": \"2020\"})\n",
        "    pesni.writerow({\"Song\": \"Like You Do\", \"Year\": \"2020\"})\n",
        "    pesni.writerow({\"Song\": \"Yeah Right\", \"Year\": \"2018\"})\n",
        "\n",
        "with open(\"Joji.csv\", \"r\") as joji:\n",
        "    pesni = csv.DictReader(joji)\n",
        "    for heading in pesni.fieldnames:\n",
        "        print(heading, end=' ')\n",
        "    print(\"\\n\" + \"-\"*10)\n",
        "    for row in pesni:\n",
        "        print(row[\"Song\"], row[\"Year\"])"
      ],
      "execution_count": 68,
      "outputs": [
        {
          "output_type": "stream",
          "name": "stdout",
          "text": [
            "Song Year \n----------\nEw 2020\nSLOW DANCING IN THE DARK 2018\nTEST DRIVE 2018\nGimme Love 2020\nLike You Do 2020\nYeah Right 2018\n"
          ]
        }
      ]
    },
    {
      "cell_type": "markdown",
      "metadata": {
        "id": "Jb-eSBsWU464"
      },
      "source": [
        "### **Завдання 3 (бонусне, 1 бал)**\n",
        "\n",
        "COCO Dataset - набір фотографій та анотацій до них. Його дуже часто використовують для тренування класифікаторів, призначених для розпізнавання об'єктів та визначення ключових точок на зображеннях.\n",
        "\n",
        "Завантажте файли з описом фотографій COCO Dataset за посиланням: http://images.cocodataset.org/annotations/image_info_test2017.zip\n",
        "\n",
        "1. Відкрийте файл image_info_test-dev2017.json. Інформація про фотографії з бази COCO міститься у полі \"images\". Інформація про категорії, на які розділені всі фотографії, міститься у полі \"categories\".\n",
        "\n",
        "2. Визначте кількість фотографій, інформацію про які можна знайти у цьому файлі (кількість елементів, що відповідають ключу \"images\").\n",
        "\n",
        "3. Визначте кількість наявних категорій (кількість елементів, що відповідають ключу \"categories\").\n",
        "\n",
        "4. Виведіть посилання на фотографію 000000000001.jpg (\"coco_url\"), висоту цієї фотографії (\"height\"), ширину (\"width\") та її ідентифікатор (\"id\").\n",
        "\n",
        "5. Опис структури JSON-файлу для набору фотографій COCO можна знайти за посиланням: https://cocodataset.org/#format-data\n",
        "\n",
        "6. Щоб перевірити правильність результатів, у VS Code встановіть розширення JSON та відкрийте файл image_info_test-dev2017.json. Розширення автоматично визначає кількість елементів у кожному полі."
      ]
    },
    {
      "cell_type": "code",
      "execution_count": null,
      "metadata": {},
      "outputs": [],
      "source": []
    }
  ]
}