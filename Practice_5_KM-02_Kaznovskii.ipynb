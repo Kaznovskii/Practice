{
  "nbformat": 4,
  "nbformat_minor": 0,
  "metadata": {
    "colab": {
      "name": "Practice_5.ipynb",
      "provenance": [],
      "collapsed_sections": [
        "193Kzrii8JCG",
        "3txUK3KJUdkf",
        "n1mNKt9JzLSj"
      ]
    },
    "kernelspec": {
      "name": "Python 3.6.5 64-bit",
      "display_name": "Python 3.6.5 64-bit",
      "metadata": {
        "interpreter": {
          "hash": "aee8b7b246df8f9039afb4144a1f6fd8d2ca17a180786b69acc140d282b71a49"
        }
      }
    }
  },
  "cells": [
    {
      "cell_type": "markdown",
      "metadata": {
        "id": "FMqboNwO4rVs"
      },
      "source": [
        "# **Курс \"Програмування на мові Python\"**\n",
        "\n",
        "##### Викладачі:\n",
        "##### Борисенко Павло Борисович\n",
        "##### Щьоголєв Максим Олегович\n"
      ]
    },
    {
      "cell_type": "markdown",
      "metadata": {
        "id": "A2T6MigL5Z06"
      },
      "source": [
        "## **Практичне зайняття №5**\n",
        "### Тема: \"Робота з кортежами, множинами та словниками\""
      ]
    },
    {
      "source": [
        "### **Завдання 1 (1,5 бали)**\n",
        "\n",
        "Напишіть програму, яка визначала б, чи можна з літер однієї фрази скласти іншу фразу. Наприклад:\n",
        "\n",
        "\"William Shakespeare\" -> \"A small spark\"\n",
        "\n",
        "Перша фраза містить 11 унікальних літер (хоча деякі повторюються): a, e, h, i, k, l, m, p, r, s та w. Друга фраза містить 7 унікальних літер: a, k, l, m, p, r та s. Кожна з літер другої фрази зустрічається принаймні один раз у першій фразі.\n",
        "\n",
        "1. Обидві фрази повинні вводитись користувачем з клавіатури.\n",
        "\n",
        "2. Скористайтесь властивістю множин у мові програмування Python для виділення колекції унікальних літер.\n",
        "\n",
        "3. У множину не повинні потрапити пробіли, розділові знаки та інші символи, що не є літерами (скористайтесь методом **isalpha()**). Також усі літери мають бути переведені в нижній або верхній регістр (скористайтесь методами **lower()** або **upper()**).\n",
        "\n",
        "4. Зверніть увагу на те, що літери як в першій, так і вдругій фразі можуть повторюватись. Однак множина унікальних літер другої фрази повинна бути підмножиною множини унікальних літер першої фрази.\n",
        "\n",
        "5. У складі змістовного повідомлення програма повинна виводити множину літер першої фрази, множину літер другої фрази, а також змістовне повідомлення про те, чи можна скласти з літер першої фрази другу фразу."
      ],
      "cell_type": "markdown",
      "metadata": {}
    },
    {
      "cell_type": "code",
      "execution_count": 45,
      "metadata": {},
      "outputs": [
        {
          "output_type": "stream",
          "name": "stdout",
          "text": [
            "First phrase: ['f', 's', 'l', 'd', 'a'], Second phrase: ['s', 'a', 'd']. Second phrase can be made from first.\n"
          ]
        }
      ],
      "source": [
        "phrase1 = (input(\"Enter first phrase: \"))\n",
        "phrase2 = (input(\"Enter second phrase: \"))\n",
        "phrase1 = list(set(phrase1.lower()))\n",
        "phrase2 = list(set(phrase2.lower()))\n",
        "fin_phrase1 = []\n",
        "fin_phrase2 = []\n",
        "\n",
        "for i in range(0, len(phrase1)):\n",
        "    if phrase1[i].isalpha() == True:\n",
        "        fin_phrase1.append(phrase1[i])\n",
        "for i in range(0, len(phrase2)):\n",
        "    if phrase2[i].isalpha() == True:\n",
        "        fin_phrase2.append(phrase2[i])\n",
        "\n",
        "avaliability = True\n",
        "for i in range(0, len(fin_phrase2)):\n",
        "    if fin_phrase2[i] not in fin_phrase1:\n",
        "        avaliability = False\n",
        "        break\n",
        "\n",
        "if avaliability == True:\n",
        "    print(\"First phrase:\", str(fin_phrase1) + \", Second phrase:\", str(fin_phrase2) + \". Second phrase can be made from first.\")\n",
        "else:\n",
        "    print(\"First phrase:\", str(fin_phrase1) + \", Second phrase:\", str(fin_phrase2) + \". Second phrase can't be made from first.\")"
      ]
    },
    {
      "source": [
        "### **Завдання 2 (1,5 бали)**\n",
        "\n",
        "На сотовому телефоні повідомлення пишуться за допомогою кнопок з цифрами. Оскільки кожна кнопка містить кілька символів, потрібно натискати на неї кілька разів, щоб надрукувати деякі з них. Якщо написнути кнопку один раз, генерується перший із доступних для цієї кнопки символів. Якщо натиснути два, три, чотири чи п'ять разів, генеруються другий, третій, четвертий чи п'ятий символи віповідно. Повний перелік кнопок (цифр) та символів, які генеруються за допомогою цих кнопок, подано у таблиці.\n",
        "\n",
        "Кнопка | Символи\n",
        "--- | ---\n",
        "1 | . , ? ! :\n",
        "2 | A B C\n",
        "3 | D E F\n",
        "4 | G H I\n",
        "5 | J K L\n",
        "6 | M N O\n",
        "7 | P Q R S\n",
        "8 | T U V\n",
        "9 | W X Y Z\n",
        "0 | space\n",
        "\n",
        "Напишіть програму, яка генеруватиме номери кнопок, які потрібно натиснути для введення певного рядка, з урахуванням кількості натискань кожної кнопки. Рядок має вводити користувач. Скористайтесь словником для збереження усіх номерів кнопок та переліку символів, що їм відповідають.\n",
        "\n",
        "Наприклад, якщо користувач ввів \"Hello, World!\", програма повинна вивести:\n",
        "\n",
        "4433555555666110966677755531111\n",
        "\n",
        "Програма повинна приймати літери як верхнього, так і нижнього регістрів. Усі символи, які не входять до переліку, поданому у таблиці, повинні ігноруватись програмою."
      ],
      "cell_type": "markdown",
      "metadata": {}
    },
    {
      "cell_type": "code",
      "execution_count": 7,
      "metadata": {},
      "outputs": [
        {
          "output_type": "stream",
          "name": "stdout",
          "text": [
            "3777766333051"
          ]
        }
      ],
      "source": [
        "symbol = {\".\":1,\n",
        "    \",\":11,\n",
        "    \"?\":111,\n",
        "    \"!\":1111,\n",
        "    \":\":11111,\n",
        "    \"A\":2,\n",
        "    \"B\":22,\n",
        "    \"C\":222,\n",
        "    \"D\":3,\n",
        "    \"E\":33,\n",
        "    \"F\":333,\n",
        "    \"G\":4,\n",
        "    \"H\":44,\n",
        "    \"I\":444,\n",
        "    \"J\":5,\n",
        "    \"K\":55,\n",
        "    \"L\":555,\n",
        "    \"M\":6,\n",
        "    \"N\":66,\n",
        "    \"O\":666,\n",
        "    \"P\":7,\n",
        "    \"Q\":77,\n",
        "    \"R\":777,\n",
        "    \"S\":7777,\n",
        "    \"T\":8,\n",
        "    \"U\":88,\n",
        "    \"V\":888,\n",
        "    \"W\":9,\n",
        "    \"X\":99,\n",
        "    \"Y\":999,\n",
        "    \"Z\":9999,\n",
        "    \" \":0}\n",
        "\n",
        "message = input(\"Enter your message: \")\n",
        "message = list(message.upper())\n",
        "final = []\n",
        "\n",
        "for i in range(0, len(message)):\n",
        "    if message[i] in symbol:\n",
        "        a = message[i]\n",
        "        final.append(symbol[a])\n",
        "\n",
        "for i in range(0, len(final)):\n",
        "    print(final[i], end='')"
      ]
    },
    {
      "cell_type": "code",
      "execution_count": null,
      "metadata": {},
      "outputs": [],
      "source": []
    }
  ]
}