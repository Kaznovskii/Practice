{
  "nbformat": 4,
  "nbformat_minor": 0,
  "metadata": {
    "colab": {
      "name": "Pranctice_3_KM-01_<name>.ipynb",
      "provenance": [],
      "collapsed_sections": []
    },
    "kernelspec": {
      "name": "Python 3.6.5 64-bit",
      "display_name": "Python 3.6.5 64-bit",
      "metadata": {
        "interpreter": {
          "hash": "aee8b7b246df8f9039afb4144a1f6fd8d2ca17a180786b69acc140d282b71a49"
        }
      }
    }
  },
  "cells": [
    {
      "cell_type": "markdown",
      "metadata": {
        "id": "1bRxWHr5e8kt"
      },
      "source": [
        "# **Курс \"Програмування на мові Python\"**\n",
        "\n",
        "##### Викладачі:\n",
        "##### Борисенко Павло Борисович\n",
        "##### Щьоголєв Максим Олегович"
      ]
    },
    {
      "cell_type": "markdown",
      "metadata": {
        "id": "buZUwUgFe-kx"
      },
      "source": [
        "## **Практичне зайняття №3**\n",
        "### Тема: \"Перші програми на Python. Введення та виведення даних. Інструкція if\""
      ]
    },
    {
      "cell_type": "markdown",
      "metadata": {
        "id": "PUkxEn8EfAUe"
      },
      "source": [
        "### **Завдання 1 (1,5 бали)**\n",
        "\n"
      ]
    },
    {
      "cell_type": "markdown",
      "metadata": {
        "id": "M7jjwxAvfKa2"
      },
      "source": [
        "**Написати програму введення та виведення даних про одержувача листа (посилки) за стандартами Укрпошти.**\n",
        "\n",
        "1. Усі запити на введення даних повинні супроводжуватись відповідними підказками-поясненнями (бажано англійською мовою).\n",
        "\n",
        "2. Дані мають виводитись так, як показано нижче (з урахуванням кількості рядків та послідовності даних у кожному з них).\n",
        "\n",
        "3. Дані, виділені жирним шрифтом, повинні вводитись із клавіатури. Всього має бути 9 окремих команд введення даних\n",
        "\n",
        "4. Назви змінних повинні бути інформативними та оформленими відповідно до правил іменування змінних\n",
        "\n",
        "5. Додати 2 коментарі, що вказують на блоки введення та виведення даних.\n",
        "\n",
        "***Формат виведення даних:***\n",
        "\n",
        "(1) **Lucas** (2) **Diallo**\n",
        "\n",
        "(3) **3221234567**\n",
        "\n",
        "Str. (4) **Longue** (5) **3**, ap. (6) **5**, (7) **Bruxelles**\n",
        "\n",
        "(8) **1020**\n",
        "\n",
        "(9) **Belgium**"
      ]
    },
    {
      "cell_type": "code",
      "metadata": {
        "id": "hEJG5C3_fJk9",
        "tags": []
      },
      "source": [
        "#блок введення інформації\n",
        "name = input(\"Enter receiver's name: \")\n",
        "surname = input(\"Enter receiver's surname: \")\n",
        "phone = input(\"Enter receiver's phone number: \")\n",
        "street = input(\"Enter destination street name: \")\n",
        "house = input(\"Enter destination house number: \")\n",
        "flat = input(\"Enter destination flat number: \")\n",
        "city = input(\"Enter destination city: \")\n",
        "code = input(\"Enter zip-code: \")\n",
        "country = input(\"Enter destination country: \")\n",
        "\n",
        "#блок виведення інформації\n",
        "print(name, surname,\n",
        "\"\\n\"+phone,\n",
        "\"\\nStr.\", street, house+\", ap.\", flat+\",\", city,\n",
        "\"\\n\"+code,\n",
        "\"\\n\"+country)"
      ],
      "execution_count": 1,
      "outputs": [
        {
          "output_type": "stream",
          "name": "stdout",
          "text": "43  34r43 \n34r43 \nStr. r43 34r, ap. 34r, 34r34 \n34r43 \n34r3\n"
        }
      ]
    },
    {
      "cell_type": "markdown",
      "metadata": {
        "id": "WmnpKrmPf689"
      },
      "source": [
        "### **Завдання 2 (1,5 бали)**"
      ]
    },
    {
      "cell_type": "markdown",
      "metadata": {
        "id": "4n4p_pz7gFKM"
      },
      "source": [
        "Таблиця містить магнітуду землетрусів за шкалою Ріхтера та дескриптори, що їй відповідають.\n",
        "\n",
        "Магнітуда | Дескриптор\n",
        "--- | ---\n",
        "Менше, ніж 2 | Micro\n",
        "Від 2 до менше ніж 3 | Very minor\n",
        "Від 3 до менше ніж 4 | Minor\n",
        "Від 4 до менше ніж 5 | Light\n",
        "Від 5 до менше ніж 6 | Moderate\n",
        "Від 6 до менше ніж 7 | Strong\n",
        "Від 7 до менше ніж 8 | Major\n",
        "Від 8 до менше ніж 10 | Great\n",
        "10 та більше | Meteoric\n",
        "\n",
        "Напишіть програму, яка буде зчитувати магнітуду, введену користувачем, та виводити відповідний дескриптор як частину змістовного повідомлення. Наприклад, якщо користувач вводить 5.5, ваша програма повинна показати, що землетрус з такою магнітудою є помірним (moderate)."
      ]
    },
    {
      "cell_type": "code",
      "metadata": {
        "id": "Nv66Jkkpf-sI",
        "tags": []
      },
      "source": [
        "magnitude = float(input(\"Enter magnitude: \"))\n",
        "\n",
        "if magnitude<2:\n",
        "    descriptor = \"Micro\"\n",
        "elif magnitude>=2 and magnitude<3:\n",
        "    descriptor = \"Very minor\"\n",
        "elif magnitude>=3 and magnitude<4:\n",
        "    descriptor = \"Minor\"\n",
        "elif magnitude>=4 and magnitude<5:\n",
        "    descriptor = \"Light\"\n",
        "elif magnitude>=5 and magnitude<6:\n",
        "    descriptor = \"Moderate\"\n",
        "elif magnitude>=6 and magnitude<7:\n",
        "    descriptor = \"Strong\"\n",
        "elif magnitude>=7 and magnitude<8:\n",
        "    descriptor = \"Major\"\n",
        "elif magnitude>=8 and magnitude<10:\n",
        "    descriptor = \"Great\"\n",
        "elif magnitude>=10:\n",
        "    descriptor = \"Meteoric\"\n",
        "\n",
        "print(\"Earthquake level is\", descriptor)"
      ],
      "execution_count": 4,
      "outputs": [
        {
          "output_type": "stream",
          "name": "stdout",
          "text": "Earthquake level is Strong\n"
        }
      ]
    },
    {
      "cell_type": "markdown",
      "metadata": {
        "id": "X8fC_GM_nMRi"
      },
      "source": [
        "### **Завдання 3 (бонусне, 1 бал)**"
      ]
    },
    {
      "cell_type": "markdown",
      "metadata": {
        "id": "b593txPwotgN"
      },
      "source": [
        "Часто говорять, що один календарний рік еквівалентний 7 рокам для собаки. Однак таке просте перетворення не враховує того, що собаки досягають повноліття приблизно у 2 роки. Тому деякі люди вважать, що краще рахувати кожен з перших двох календарних років як 10,5 років для собаки, а потім рахувати кожен наступний календарний рік як 4 роки для собаки.\n",
        "\n",
        "Напишіть програму, яка конвертує календарні роки у \"собачі\", як було показано в попередньому абзаці. Переконайтесь, що ваша програма працює правильно, конвертуючи перші два календарні роки та всі подальші. Ваша програма також повинна виводити повідомлення про помилку, якщо користувач введе від'ємне число."
      ]
    },
    {
      "cell_type": "code",
      "metadata": {
        "id": "PA_E_H0Zosu0",
        "tags": []
      },
      "source": [
        "years = float(input(\"Enter calendar years: \"))\n",
        "\n",
        "if years<0:\n",
        "    print(\"Please, enter age correctly! (Only positive numbers)\")\n",
        "elif years<=2:\n",
        "    print(\"Dog's age is\", years*10.5)\n",
        "else: print(\"Dog's age is\", 2*10.5+(years-2)*4)"
      ],
      "execution_count": 8,
      "outputs": [
        {
          "output_type": "stream",
          "name": "stdout",
          "text": "Dog&#39;s age is 37.0\n"
        }
      ]
    },
    {
      "cell_type": "code",
      "execution_count": null,
      "metadata": {},
      "outputs": [],
      "source": []
    }
  ]
}